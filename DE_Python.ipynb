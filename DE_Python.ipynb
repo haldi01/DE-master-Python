{
  "nbformat": 4,
  "nbformat_minor": 0,
  "metadata": {
    "colab": {
      "name": "DE_Python",
      "provenance": [],
      "collapsed_sections": [],
      "toc_visible": true,
      "mount_file_id": "1j7l-OnPyIoRH9iOXlM5aYluGP7vVI3f4",
      "authorship_tag": "ABX9TyPdU9t5dkq/jd/X20h8m+Fm",
      "include_colab_link": true
    },
    "kernelspec": {
      "name": "python3",
      "display_name": "Python 3"
    },
    "language_info": {
      "name": "python"
    }
  },
  "cells": [
    {
      "cell_type": "markdown",
      "metadata": {
        "id": "view-in-github",
        "colab_type": "text"
      },
      "source": [
        "<a href=\"https://colab.research.google.com/github/haldi01/DE-master-Python/blob/main/DE_Python.ipynb\" target=\"_parent\"><img src=\"https://colab.research.google.com/assets/colab-badge.svg\" alt=\"Open In Colab\"/></a>"
      ]
    },
    {
      "cell_type": "code",
      "metadata": {
        "id": "riunkJ9o_xVL"
      },
      "source": [
        "from scipy.optimize import differential_evolution\n",
        "from numpy import arange\n",
        "from numpy import exp\n",
        "from numpy import sqrt\n",
        "from numpy import cos\n",
        "from numpy import e\n",
        "from numpy import pi\n",
        "from numpy import meshgrid\n",
        "import matplotlib.pyplot as plt\n",
        "\n",
        "def objective(x, y):\n",
        " return -20.0 * exp(-0.2 * sqrt(0.5 * (x**2 + y**2)))-exp(0.5 * (cos(2 * \n",
        "  pi * x)+cos(2 * pi * y))) + e + 20\n",
        "\n",
        "\n",
        "r_min, r_max = -32.768, 32.768\n",
        "\n",
        "\n",
        "\n",
        "\n",
        "xaxis = arange(r_min, r_max, 2.0)\n",
        "yaxis = arange(r_min, r_max, 2.0)\n",
        "x, y = meshgrid(xaxis, yaxis)\n",
        "results = objective(x, y)\n",
        "\n",
        "\n",
        "figure = plt.figure()\n",
        "axis = figure.gca( projection='3d')\n",
        "axis.plot_surface(x, y, results, cmap='jet', shade= \"false\")\n",
        "plt.show()\n",
        "plt.contour(x,y,results)\n",
        "plt.show()\n",
        "plt.scatter(x, y, results)\n",
        "plt.show()"
      ],
      "execution_count": null,
      "outputs": []
    },
    {
      "cell_type": "code",
      "metadata": {
        "colab": {
          "base_uri": "https://localhost:8080/"
        },
        "id": "BuNo1Yh9ARBZ",
        "outputId": "243e8bbf-233e-497c-84fa-ce7c092de2c3"
      },
      "source": [
        "# differential evolution global optimization for the ackley multimodal objective function\n",
        "from scipy.optimize import differential_evolution\n",
        "from numpy.random import rand\n",
        "from numpy import exp\n",
        "from numpy import sqrt\n",
        "from numpy import cos\n",
        "from numpy import e\n",
        "from numpy import pi\n",
        " \n",
        "# objective function\n",
        "def objective(v):\n",
        "\tx, y = v\n",
        "\treturn -20.0 * exp(-0.2 * sqrt(0.5 * (x**2 + y**2))) - exp(0.5 * (cos(2 * pi * x) + cos(2 * pi * y))) + e + 20\n",
        " \n",
        "# define range for input\n",
        "r_min, r_max = -5.0, 5.0\n",
        "# define the bounds on the search\n",
        "bounds = [[r_min, r_max], [r_min, r_max]]\n",
        "# perform the differential evolution search\n",
        "result = differential_evolution(objective, bounds)\n",
        "# summarize the result\n",
        "print('Status : %s' % result['message'])\n",
        "print('Total Evaluations: %d' % result['nfev'])\n",
        "# evaluate solution\n",
        "solution = result['x']\n",
        "evaluation = objective(solution)\n",
        "print('Solution: f(%s) = %.5f' % (solution, evaluation))\n"
      ],
      "execution_count": null,
      "outputs": [
        {
          "output_type": "stream",
          "text": [
            "Status : Optimization terminated successfully.\n",
            "Total Evaluations: 3153\n",
            "Solution: f([0. 0.]) = 0.00000\n"
          ],
          "name": "stdout"
        }
      ]
    },
    {
      "cell_type": "code",
      "metadata": {
        "colab": {
          "base_uri": "https://localhost:8080/"
        },
        "id": "tFDnOJHrigQI",
        "outputId": "592efd08-e87c-4510-ca62-afd9dfaa0037"
      },
      "source": [
        "from scipy.optimize import differential_evolution\n",
        "import numpy as np\n",
        "def ackley(x):\n",
        "    arg1 = -0.2 * np.sqrt(0.5 * (x[0] ** 2 + x[1] ** 2))\n",
        "    arg2 = 0.5 * (np.cos(2. * np.pi * x[0]) + np.cos(2. * np.pi * x[1]))\n",
        "    return -20. * np.exp(arg1) - np.exp(arg2) + 20. + np.e\n",
        "bounds = [(-5, 5), (-5, 5)]\n",
        "result = differential_evolution(ackley, bounds)\n",
        "result.x, result.fun"
      ],
      "execution_count": null,
      "outputs": [
        {
          "output_type": "execute_result",
          "data": {
            "text/plain": [
              "(array([0., 0.]), 4.440892098500626e-16)"
            ]
          },
          "metadata": {
            "tags": []
          },
          "execution_count": 28
        }
      ]
    },
    {
      "cell_type": "code",
      "metadata": {
        "colab": {
          "base_uri": "https://localhost:8080/"
        },
        "id": "dD3m_aQ6jH91",
        "outputId": "c325af47-8a3a-4c12-9bfe-68a389b4f517"
      },
      "source": [
        "from scipy.optimize import differential_evolution\n",
        "import numpy as np\n",
        "def eval(x):\n",
        "    arg = x[1]**2+4*x[1]+4\n",
        "    \n",
        "    return arg\n",
        "bounds = [(-5, 5), (-5, 5)]\n",
        "result = differential_evolution(eval, bounds)\n",
        "result.x, result.fun"
      ],
      "execution_count": null,
      "outputs": [
        {
          "output_type": "execute_result",
          "data": {
            "text/plain": [
              "(array([ 0.97332392, -1.99999999]), 0.0)"
            ]
          },
          "metadata": {
            "tags": []
          },
          "execution_count": 31
        }
      ]
    }
  ]
}